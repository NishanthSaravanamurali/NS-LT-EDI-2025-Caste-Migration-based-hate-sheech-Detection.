{
 "cells": [
  {
   "cell_type": "code",
   "execution_count": 5,
   "metadata": {},
   "outputs": [
    {
     "name": "stdout",
     "output_type": "stream",
     "text": [
      "Note: you may need to restart the kernel to use updated packages.\n",
      "Collecting deep-translator\n",
      "  Downloading deep_translator-1.11.4-py3-none-any.whl.metadata (30 kB)\n",
      "Collecting beautifulsoup4<5.0.0,>=4.9.1 (from deep-translator)\n",
      "  Downloading beautifulsoup4-4.12.3-py3-none-any.whl.metadata (3.8 kB)\n",
      "Requirement already satisfied: requests<3.0.0,>=2.23.0 in c:\\users\\nisha\\appdata\\local\\programs\\python\\python312\\lib\\site-packages (from deep-translator) (2.32.2)\n",
      "Collecting soupsieve>1.2 (from beautifulsoup4<5.0.0,>=4.9.1->deep-translator)\n",
      "  Downloading soupsieve-2.6-py3-none-any.whl.metadata (4.6 kB)\n",
      "Requirement already satisfied: charset-normalizer<4,>=2 in c:\\users\\nisha\\appdata\\local\\programs\\python\\python312\\lib\\site-packages (from requests<3.0.0,>=2.23.0->deep-translator) (3.3.2)\n",
      "Requirement already satisfied: idna<4,>=2.5 in c:\\users\\nisha\\appdata\\local\\programs\\python\\python312\\lib\\site-packages (from requests<3.0.0,>=2.23.0->deep-translator) (2.10)\n",
      "Requirement already satisfied: urllib3<3,>=1.21.1 in c:\\users\\nisha\\appdata\\local\\programs\\python\\python312\\lib\\site-packages (from requests<3.0.0,>=2.23.0->deep-translator) (2.2.1)\n",
      "Requirement already satisfied: certifi>=2017.4.17 in c:\\users\\nisha\\appdata\\local\\programs\\python\\python312\\lib\\site-packages (from requests<3.0.0,>=2.23.0->deep-translator) (2024.2.2)\n",
      "Downloading deep_translator-1.11.4-py3-none-any.whl (42 kB)\n",
      "Downloading beautifulsoup4-4.12.3-py3-none-any.whl (147 kB)\n",
      "Downloading soupsieve-2.6-py3-none-any.whl (36 kB)\n",
      "Installing collected packages: soupsieve, beautifulsoup4, deep-translator\n",
      "Successfully installed beautifulsoup4-4.12.3 deep-translator-1.11.4 soupsieve-2.6\n"
     ]
    },
    {
     "name": "stderr",
     "output_type": "stream",
     "text": [
      "  WARNING: The scripts deep-translator.exe and dt.exe are installed in 'c:\\Users\\nisha\\AppData\\Local\\Programs\\Python\\Python312\\Scripts' which is not on PATH.\n",
      "  Consider adding this directory to PATH or, if you prefer to suppress this warning, use --no-warn-script-location.\n"
     ]
    }
   ],
   "source": [
    "pip install deep-translator"
   ]
  },
  {
   "cell_type": "code",
   "execution_count": 1,
   "metadata": {},
   "outputs": [
    {
     "name": "stderr",
     "output_type": "stream",
     "text": [
      "Processing Chunks: 100%|██████████| 56/56 [1:28:27<00:00, 94.79s/chunk] "
     ]
    },
    {
     "name": "stdout",
     "output_type": "stream",
     "text": [
      "Translation completed. Translated file saved as translated_sentences_deep_translator_train_english.csv\n"
     ]
    },
    {
     "name": "stderr",
     "output_type": "stream",
     "text": [
      "\n"
     ]
    }
   ],
   "source": [
    "import pandas as pd\n",
    "from deep_translator import GoogleTranslator\n",
    "from tqdm import tqdm\n",
    "\n",
    "# Initialize the translator\n",
    "translator = GoogleTranslator(source='auto', target='en')\n",
    "\n",
    "# Load the CSV file\n",
    "file_path = r\"train.csv\"  # Replace with your file path\n",
    "df = pd.read_csv(file_path)\n",
    "\n",
    "sentences = df['text'].tolist()\n",
    "\n",
    "# Set the chunk size (e.g., 1000 sentences at a time)\n",
    "chunk_size = 100\n",
    "num_chunks = len(sentences) // chunk_size + (1 if len(sentences) % chunk_size != 0 else 0)\n",
    "\n",
    "# List to store translated sentences\n",
    "translated_sentences = []\n",
    "\n",
    "# Translate sentences in chunks with progress bar\n",
    "for i in tqdm(range(num_chunks), desc=\"Processing Chunks\", unit=\"chunk\"):\n",
    "    # Get the current chunk\n",
    "    chunk = sentences[i * chunk_size:(i + 1) * chunk_size]\n",
    "    chunk_translations = []\n",
    "\n",
    "    # Translate each sentence in the chunk\n",
    "    for sentence in chunk:\n",
    "        try:\n",
    "            # Translate the sentence to English\n",
    "            translated = translator.translate(sentence)\n",
    "            chunk_translations.append(translated)\n",
    "        except Exception as e:\n",
    "            # Handle errors and append a placeholder\n",
    "            chunk_translations.append(f\"Error: {e}\")\n",
    "\n",
    "    # Append the translated chunk\n",
    "    translated_sentences.extend(chunk_translations)\n",
    "\n",
    "# Add the translated sentences to the DataFrame\n",
    "df['Translated'] = translated_sentences\n",
    "\n",
    "# Save the DataFrame to a new CSV\n",
    "output_file = \"translated_sentences_deep_translator_train_english.csv\"\n",
    "df.to_csv(output_file, index=False, encoding='utf-8-sig')\n",
    "\n",
    "print(f\"Translation completed. Translated file saved as {output_file}\")\n"
   ]
  },
  {
   "cell_type": "code",
   "execution_count": 2,
   "metadata": {},
   "outputs": [
    {
     "name": "stderr",
     "output_type": "stream",
     "text": [
      "Processing Chunks: 100%|██████████| 56/56 [57:02<00:00, 61.12s/chunk] "
     ]
    },
    {
     "name": "stdout",
     "output_type": "stream",
     "text": [
      "Translation completed. Translated file saved as translated_sentences_deep_translator_train_tamil.csv\n"
     ]
    },
    {
     "name": "stderr",
     "output_type": "stream",
     "text": [
      "\n"
     ]
    }
   ],
   "source": [
    "import pandas as pd\n",
    "from deep_translator import GoogleTranslator\n",
    "from tqdm import tqdm\n",
    "\n",
    "# Initialize the translator\n",
    "translator = GoogleTranslator(source='auto', target='ta')\n",
    "\n",
    "# Load the CSV file\n",
    "file_path = r\"train.csv\"  # Replace with your file path\n",
    "df = pd.read_csv(file_path)\n",
    "\n",
    "sentences = df['text'].tolist()\n",
    "\n",
    "# Set the chunk size (e.g., 1000 sentences at a time)\n",
    "chunk_size = 100\n",
    "num_chunks = len(sentences) // chunk_size + (1 if len(sentences) % chunk_size != 0 else 0)\n",
    "\n",
    "# List to store translated sentences\n",
    "translated_sentences = []\n",
    "\n",
    "# Translate sentences in chunks with progress bar\n",
    "for i in tqdm(range(num_chunks), desc=\"Processing Chunks\", unit=\"chunk\"):\n",
    "    # Get the current chunk\n",
    "    chunk = sentences[i * chunk_size:(i + 1) * chunk_size]\n",
    "    chunk_translations = []\n",
    "\n",
    "    # Translate each sentence in the chunk\n",
    "    for sentence in chunk:\n",
    "        try:\n",
    "            # Translate the sentence to English\n",
    "            translated = translator.translate(sentence)\n",
    "            chunk_translations.append(translated)\n",
    "        except Exception as e:\n",
    "            # Handle errors and append a placeholder\n",
    "            chunk_translations.append(f\"Error: {e}\")\n",
    "\n",
    "    # Append the translated chunk\n",
    "    translated_sentences.extend(chunk_translations)\n",
    "\n",
    "# Add the translated sentences to the DataFrame\n",
    "df['Translated'] = translated_sentences\n",
    "\n",
    "# Save the DataFrame to a new CSV\n",
    "output_file = \"translated_sentences_deep_translator_train_tamil.csv\"\n",
    "df.to_csv(output_file, index=False, encoding='utf-8-sig')\n",
    "\n",
    "print(f\"Translation completed. Translated file saved as {output_file}\")\n"
   ]
  },
  {
   "cell_type": "code",
   "execution_count": 4,
   "metadata": {},
   "outputs": [
    {
     "name": "stderr",
     "output_type": "stream",
     "text": [
      "Processing Chunks: 100%|██████████| 8/8 [13:59<00:00, 104.97s/chunk]"
     ]
    },
    {
     "name": "stdout",
     "output_type": "stream",
     "text": [
      "Translation completed. Translated file saved as translated_sentences_deep_translator_dev_english.csv\n"
     ]
    },
    {
     "name": "stderr",
     "output_type": "stream",
     "text": [
      "\n"
     ]
    }
   ],
   "source": [
    "import pandas as pd\n",
    "from deep_translator import GoogleTranslator\n",
    "from tqdm import tqdm\n",
    "\n",
    "# Initialize the translator\n",
    "translator = GoogleTranslator(source='auto', target='en')\n",
    "\n",
    "# Load the CSV file\n",
    "file_path = r\"dev.csv\"  # Replace with your file path\n",
    "df = pd.read_csv(file_path)\n",
    "\n",
    "sentences = df['text'].tolist()\n",
    "\n",
    "# Set the chunk size (e.g., 1000 sentences at a time)\n",
    "chunk_size = 100\n",
    "num_chunks = len(sentences) // chunk_size + (1 if len(sentences) % chunk_size != 0 else 0)\n",
    "\n",
    "# List to store translated sentences\n",
    "translated_sentences = []\n",
    "\n",
    "# Translate sentences in chunks with progress bar\n",
    "for i in tqdm(range(num_chunks), desc=\"Processing Chunks\", unit=\"chunk\"):\n",
    "    # Get the current chunk\n",
    "    chunk = sentences[i * chunk_size:(i + 1) * chunk_size]\n",
    "    chunk_translations = []\n",
    "\n",
    "    # Translate each sentence in the chunk\n",
    "    for sentence in chunk:\n",
    "        try:\n",
    "            # Translate the sentence to English\n",
    "            translated = translator.translate(sentence)\n",
    "            chunk_translations.append(translated)\n",
    "        except Exception as e:\n",
    "            # Handle errors and append a placeholder\n",
    "            chunk_translations.append(f\"Error: {e}\")\n",
    "\n",
    "    # Append the translated chunk\n",
    "    translated_sentences.extend(chunk_translations)\n",
    "\n",
    "# Add the translated sentences to the DataFrame\n",
    "df['Translated'] = translated_sentences\n",
    "\n",
    "# Save the DataFrame to a new CSV\n",
    "output_file = \"translated_sentences_deep_translator_dev_english.csv\"\n",
    "df.to_csv(output_file, index=False, encoding='utf-8-sig')\n",
    "\n",
    "print(f\"Translation completed. Translated file saved as {output_file}\")\n"
   ]
  },
  {
   "cell_type": "code",
   "execution_count": 5,
   "metadata": {},
   "outputs": [
    {
     "name": "stderr",
     "output_type": "stream",
     "text": [
      "Processing Chunks:   0%|          | 0/8 [00:00<?, ?chunk/s]"
     ]
    },
    {
     "name": "stderr",
     "output_type": "stream",
     "text": [
      "Processing Chunks: 100%|██████████| 8/8 [08:06<00:00, 60.85s/chunk]"
     ]
    },
    {
     "name": "stdout",
     "output_type": "stream",
     "text": [
      "Translation completed. Translated file saved as translated_sentences_deep_translator_dev_tamil.csv\n"
     ]
    },
    {
     "name": "stderr",
     "output_type": "stream",
     "text": [
      "\n"
     ]
    }
   ],
   "source": [
    "import pandas as pd\n",
    "from deep_translator import GoogleTranslator\n",
    "from tqdm import tqdm\n",
    "\n",
    "# Initialize the translator\n",
    "translator = GoogleTranslator(source='auto', target='ta')\n",
    "\n",
    "# Load the CSV file\n",
    "file_path = r\"dev.csv\"  # Replace with your file path\n",
    "df = pd.read_csv(file_path)\n",
    "\n",
    "sentences = df['text'].tolist()\n",
    "\n",
    "# Set the chunk size (e.g., 1000 sentences at a time)\n",
    "chunk_size = 100\n",
    "num_chunks = len(sentences) // chunk_size + (1 if len(sentences) % chunk_size != 0 else 0)\n",
    "\n",
    "# List to store translated sentences\n",
    "translated_sentences = []\n",
    "\n",
    "# Translate sentences in chunks with progress bar\n",
    "for i in tqdm(range(num_chunks), desc=\"Processing Chunks\", unit=\"chunk\"):\n",
    "    # Get the current chunk\n",
    "    chunk = sentences[i * chunk_size:(i + 1) * chunk_size]\n",
    "    chunk_translations = []\n",
    "\n",
    "    # Translate each sentence in the chunk\n",
    "    for sentence in chunk:\n",
    "        try:\n",
    "            # Translate the sentence to English\n",
    "            translated = translator.translate(sentence)\n",
    "            chunk_translations.append(translated)\n",
    "        except Exception as e:\n",
    "            # Handle errors and append a placeholder\n",
    "            chunk_translations.append(f\"Error: {e}\")\n",
    "\n",
    "    # Append the translated chunk\n",
    "    translated_sentences.extend(chunk_translations)\n",
    "\n",
    "# Add the translated sentences to the DataFrame\n",
    "df['Translated'] = translated_sentences\n",
    "\n",
    "# Save the DataFrame to a new CSV\n",
    "output_file = \"translated_sentences_deep_translator_dev_tamil.csv\"\n",
    "df.to_csv(output_file, index=False, encoding='utf-8-sig')\n",
    "\n",
    "print(f\"Translation completed. Translated file saved as {output_file}\")\n"
   ]
  },
  {
   "cell_type": "code",
   "execution_count": 3,
   "metadata": {},
   "outputs": [
    {
     "name": "stderr",
     "output_type": "stream",
     "text": [
      "Processing Chunks: 100%|██████████| 16/16 [18:15<00:00, 68.50s/chunk]"
     ]
    },
    {
     "name": "stdout",
     "output_type": "stream",
     "text": [
      "Translation completed. Translated file saved as translated_sentences_english_test_fixed.csv\n"
     ]
    },
    {
     "name": "stderr",
     "output_type": "stream",
     "text": [
      "\n"
     ]
    }
   ],
   "source": [
    "import pandas as pd\n",
    "from deep_translator import GoogleTranslator\n",
    "from tqdm import tqdm\n",
    "\n",
    "# Initialize translator\n",
    "translator = GoogleTranslator(source='auto', target='en')\n",
    "\n",
    "# Load CSV with proper handling of multiline text\n",
    "file_path = r\"test.csv\"  # Replace with your actual file path\n",
    "df = pd.read_csv(file_path, dtype={'id': str}, keep_default_na=False)\n",
    "\n",
    "# **Step 1: Merge Broken Lines (Multi-Line Fix)**\n",
    "fixed_rows = []\n",
    "current_id = None\n",
    "current_text = \"\"\n",
    "\n",
    "for _, row in df.iterrows():\n",
    "    if str(row['id']).strip().isdigit():  # If 'id' looks valid, it's a new row\n",
    "        if current_id is not None:\n",
    "            fixed_rows.append({'id': current_id, 'text': current_text.strip()})\n",
    "        current_id = row['id']\n",
    "        current_text = row['text'].strip()\n",
    "    else:  \n",
    "        # This handles cases where multi-line text occurs randomly, even with a missing `,`\n",
    "        current_text += \" \" + row['text'].strip()\n",
    "\n",
    "# Save the last row\n",
    "if current_id is not None:\n",
    "    fixed_rows.append({'id': current_id, 'text': current_text.strip()})\n",
    "\n",
    "# Convert fixed rows to a DataFrame\n",
    "df_fixed = pd.DataFrame(fixed_rows)\n",
    "\n",
    "# **Step 2: Translate Text**\n",
    "sentences = df_fixed['text'].tolist()\n",
    "\n",
    "chunk_size = 100\n",
    "num_chunks = len(sentences) // chunk_size + (1 if len(sentences) % chunk_size != 0 else 0)\n",
    "\n",
    "translated_sentences = []\n",
    "\n",
    "for i in tqdm(range(num_chunks), desc=\"Processing Chunks\", unit=\"chunk\"):\n",
    "    chunk = sentences[i * chunk_size:(i + 1) * chunk_size]\n",
    "    chunk_translations = []\n",
    "\n",
    "    for sentence in chunk:\n",
    "        try:\n",
    "            translated = translator.translate(sentence)\n",
    "            chunk_translations.append(translated)\n",
    "        except Exception as e:\n",
    "            chunk_translations.append(f\"Error: {e}\")\n",
    "\n",
    "    translated_sentences.extend(chunk_translations)\n",
    "\n",
    "# **Step 3: Save Results**\n",
    "df_fixed['Translated'] = translated_sentences\n",
    "output_file = \"translated_sentences_english_test_fixed.csv\"\n",
    "df_fixed.to_csv(output_file, index=False, encoding='utf-8-sig')\n",
    "\n",
    "print(f\"Translation completed. Translated file saved as {output_file}\")\n"
   ]
  },
  {
   "cell_type": "code",
   "execution_count": 4,
   "metadata": {},
   "outputs": [
    {
     "name": "stderr",
     "output_type": "stream",
     "text": [
      "Processing Chunks: 100%|██████████| 16/16 [11:27<00:00, 42.96s/chunk]"
     ]
    },
    {
     "name": "stdout",
     "output_type": "stream",
     "text": [
      "Translation completed. Translated file saved as translated_sentences__tamil_test_fixed.csv\n"
     ]
    },
    {
     "name": "stderr",
     "output_type": "stream",
     "text": [
      "\n"
     ]
    }
   ],
   "source": [
    "import pandas as pd\n",
    "from deep_translator import GoogleTranslator\n",
    "from tqdm import tqdm\n",
    "\n",
    "# Initialize translator\n",
    "translator = GoogleTranslator(source='auto', target='ta')\n",
    "\n",
    "# Load CSV with proper handling of multiline text\n",
    "file_path = r\"test.csv\"  # Replace with your actual file path\n",
    "df = pd.read_csv(file_path, dtype={'id': str}, keep_default_na=False)\n",
    "\n",
    "# **Step 1: Merge Broken Lines (Multi-Line Fix)**\n",
    "fixed_rows = []\n",
    "current_id = None\n",
    "current_text = \"\"\n",
    "\n",
    "for _, row in df.iterrows():\n",
    "    if str(row['id']).strip().isdigit():  # If 'id' looks valid, it's a new row\n",
    "        if current_id is not None:\n",
    "            fixed_rows.append({'id': current_id, 'text': current_text.strip()})\n",
    "        current_id = row['id']\n",
    "        current_text = row['text'].strip()\n",
    "    else:  \n",
    "        # This handles cases where multi-line text occurs randomly, even with a missing `,`\n",
    "        current_text += \" \" + row['text'].strip()\n",
    "\n",
    "# Save the last row\n",
    "if current_id is not None:\n",
    "    fixed_rows.append({'id': current_id, 'text': current_text.strip()})\n",
    "\n",
    "# Convert fixed rows to a DataFrame\n",
    "df_fixed = pd.DataFrame(fixed_rows)\n",
    "\n",
    "# **Step 2: Translate Text**\n",
    "sentences = df_fixed['text'].tolist()\n",
    "\n",
    "chunk_size = 100\n",
    "num_chunks = len(sentences) // chunk_size + (1 if len(sentences) % chunk_size != 0 else 0)\n",
    "\n",
    "translated_sentences = []\n",
    "\n",
    "for i in tqdm(range(num_chunks), desc=\"Processing Chunks\", unit=\"chunk\"):\n",
    "    chunk = sentences[i * chunk_size:(i + 1) * chunk_size]\n",
    "    chunk_translations = []\n",
    "\n",
    "    for sentence in chunk:\n",
    "        try:\n",
    "            translated = translator.translate(sentence)\n",
    "            chunk_translations.append(translated)\n",
    "        except Exception as e:\n",
    "            chunk_translations.append(f\"Error: {e}\")\n",
    "\n",
    "    translated_sentences.extend(chunk_translations)\n",
    "\n",
    "# **Step 3: Save Results**\n",
    "df_fixed['Translated'] = translated_sentences\n",
    "output_file = \"translated_sentences__tamil_test_fixed.csv\"\n",
    "df_fixed.to_csv(output_file, index=False, encoding='utf-8-sig')\n",
    "\n",
    "print(f\"Translation completed. Translated file saved as {output_file}\")\n"
   ]
  }
 ],
 "metadata": {
  "kernelspec": {
   "display_name": "Python 3",
   "language": "python",
   "name": "python3"
  },
  "language_info": {
   "codemirror_mode": {
    "name": "ipython",
    "version": 3
   },
   "file_extension": ".py",
   "mimetype": "text/x-python",
   "name": "python",
   "nbconvert_exporter": "python",
   "pygments_lexer": "ipython3",
   "version": "3.12.8"
  }
 },
 "nbformat": 4,
 "nbformat_minor": 2
}
